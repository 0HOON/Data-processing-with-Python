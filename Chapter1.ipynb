{
  "nbformat": 4,
  "nbformat_minor": 0,
  "metadata": {
    "colab": {
      "name": "Chapter1.ipynb",
      "version": "0.3.2",
      "provenance": [],
      "collapsed_sections": [],
      "include_colab_link": true
    },
    "kernelspec": {
      "name": "python3",
      "display_name": "Python 3"
    }
  },
  "cells": [
    {
      "cell_type": "markdown",
      "metadata": {
        "id": "view-in-github",
        "colab_type": "text"
      },
      "source": [
        "<a href=\"https://colab.research.google.com/github/0HOON/Data-processing-with-Python/blob/master/Chapter1.ipynb\" target=\"_parent\"><img src=\"https://colab.research.google.com/assets/colab-badge.svg\" alt=\"Open In Colab\"/></a>"
      ]
    },
    {
      "cell_type": "markdown",
      "metadata": {
        "id": "u_k0o8dzvJkX",
        "colab_type": "text"
      },
      "source": [
        "1장 서울시 구별 CCTV  현황 분석"
      ]
    },
    {
      "cell_type": "code",
      "metadata": {
        "id": "I0yqIkNQvPQa",
        "colab_type": "code",
        "colab": {}
      },
      "source": [
        "import pandas as pd"
      ],
      "execution_count": 0,
      "outputs": []
    },
    {
      "cell_type": "code",
      "metadata": {
        "id": "otHLH5Wrmgza",
        "colab_type": "code",
        "outputId": "f1850748-87f7-4643-fb4c-c52f916361d4",
        "colab": {
          "base_uri": "https://localhost:8080/",
          "height": 131
        }
      },
      "source": [
        "from google.colab import drive\n",
        "\n",
        "drive.mount('/content/gdrive')"
      ],
      "execution_count": 0,
      "outputs": [
        {
          "output_type": "stream",
          "text": [
            "Go to this URL in a browser: https://accounts.google.com/o/oauth2/auth?client_id=947318989803-6bn6qk8qdgf4n4g3pfee6491hc0brc4i.apps.googleusercontent.com&redirect_uri=urn%3Aietf%3Awg%3Aoauth%3A2.0%3Aoob&scope=email%20https%3A%2F%2Fwww.googleapis.com%2Fauth%2Fdocs.test%20https%3A%2F%2Fwww.googleapis.com%2Fauth%2Fdrive%20https%3A%2F%2Fwww.googleapis.com%2Fauth%2Fdrive.photos.readonly%20https%3A%2F%2Fwww.googleapis.com%2Fauth%2Fpeopleapi.readonly&response_type=code\n",
            "\n",
            "Enter your authorization code:\n",
            "··········\n",
            "Mounted at /content/gdrive\n"
          ],
          "name": "stdout"
        }
      ]
    },
    {
      "cell_type": "code",
      "metadata": {
        "id": "T9q-r4yl3vCT",
        "colab_type": "code",
        "outputId": "7dd2fd0f-7525-4672-f260-889a26d0c979",
        "colab": {
          "base_uri": "https://localhost:8080/",
          "height": 202
        }
      },
      "source": [
        "CCTV_Seoul = pd.read_csv('/content/gdrive/My Drive/Data/CCTV_in_Seoul.csv', encoding='utf-8')\n",
        "CCTV_Seoul.head()"
      ],
      "execution_count": 0,
      "outputs": [
        {
          "output_type": "execute_result",
          "data": {
            "text/html": [
              "<div>\n",
              "<style scoped>\n",
              "    .dataframe tbody tr th:only-of-type {\n",
              "        vertical-align: middle;\n",
              "    }\n",
              "\n",
              "    .dataframe tbody tr th {\n",
              "        vertical-align: top;\n",
              "    }\n",
              "\n",
              "    .dataframe thead th {\n",
              "        text-align: right;\n",
              "    }\n",
              "</style>\n",
              "<table border=\"1\" class=\"dataframe\">\n",
              "  <thead>\n",
              "    <tr style=\"text-align: right;\">\n",
              "      <th></th>\n",
              "      <th>기관명</th>\n",
              "      <th>소계</th>\n",
              "      <th>2013년도 이전</th>\n",
              "      <th>2014년</th>\n",
              "      <th>2015년</th>\n",
              "      <th>2016년</th>\n",
              "    </tr>\n",
              "  </thead>\n",
              "  <tbody>\n",
              "    <tr>\n",
              "      <th>0</th>\n",
              "      <td>강남구</td>\n",
              "      <td>3238</td>\n",
              "      <td>1292</td>\n",
              "      <td>430</td>\n",
              "      <td>584</td>\n",
              "      <td>932</td>\n",
              "    </tr>\n",
              "    <tr>\n",
              "      <th>1</th>\n",
              "      <td>강동구</td>\n",
              "      <td>1010</td>\n",
              "      <td>379</td>\n",
              "      <td>99</td>\n",
              "      <td>155</td>\n",
              "      <td>377</td>\n",
              "    </tr>\n",
              "    <tr>\n",
              "      <th>2</th>\n",
              "      <td>강북구</td>\n",
              "      <td>831</td>\n",
              "      <td>369</td>\n",
              "      <td>120</td>\n",
              "      <td>138</td>\n",
              "      <td>204</td>\n",
              "    </tr>\n",
              "    <tr>\n",
              "      <th>3</th>\n",
              "      <td>강서구</td>\n",
              "      <td>911</td>\n",
              "      <td>388</td>\n",
              "      <td>258</td>\n",
              "      <td>184</td>\n",
              "      <td>81</td>\n",
              "    </tr>\n",
              "    <tr>\n",
              "      <th>4</th>\n",
              "      <td>관악구</td>\n",
              "      <td>2109</td>\n",
              "      <td>846</td>\n",
              "      <td>260</td>\n",
              "      <td>390</td>\n",
              "      <td>613</td>\n",
              "    </tr>\n",
              "  </tbody>\n",
              "</table>\n",
              "</div>"
            ],
            "text/plain": [
              "   기관명    소계  2013년도 이전  2014년  2015년  2016년\n",
              "0  강남구  3238       1292    430    584    932\n",
              "1  강동구  1010        379     99    155    377\n",
              "2  강북구   831        369    120    138    204\n",
              "3  강서구   911        388    258    184     81\n",
              "4  관악구  2109        846    260    390    613"
            ]
          },
          "metadata": {
            "tags": []
          },
          "execution_count": 5
        }
      ]
    },
    {
      "cell_type": "code",
      "metadata": {
        "id": "ec6GKdbR4S7G",
        "colab_type": "code",
        "outputId": "0d2449d8-59f6-4754-c765-3813fbb0d7f5",
        "colab": {
          "base_uri": "https://localhost:8080/",
          "height": 36
        }
      },
      "source": [
        "CCTV_Seoul.columns"
      ],
      "execution_count": 0,
      "outputs": [
        {
          "output_type": "execute_result",
          "data": {
            "text/plain": [
              "Index(['기관명', '소계', '2013년도 이전', '2014년', '2015년', '2016년'], dtype='object')"
            ]
          },
          "metadata": {
            "tags": []
          },
          "execution_count": 6
        }
      ]
    },
    {
      "cell_type": "code",
      "metadata": {
        "id": "MBJvkF7W5D1t",
        "colab_type": "code",
        "outputId": "10efb8f3-7dda-4dc1-c44b-b63da1d69a9f",
        "colab": {
          "base_uri": "https://localhost:8080/",
          "height": 36
        }
      },
      "source": [
        "CCTV_Seoul.columns[0]"
      ],
      "execution_count": 0,
      "outputs": [
        {
          "output_type": "execute_result",
          "data": {
            "text/plain": [
              "'기관명'"
            ]
          },
          "metadata": {
            "tags": []
          },
          "execution_count": 7
        }
      ]
    },
    {
      "cell_type": "code",
      "metadata": {
        "id": "xgM4sd1R5O1a",
        "colab_type": "code",
        "outputId": "fd25afe6-2356-4b62-f688-0f06e124b9d7",
        "colab": {
          "base_uri": "https://localhost:8080/",
          "height": 202
        }
      },
      "source": [
        "CCTV_Seoul.rename(columns={CCTV_Seoul.columns[0] : '구별'}, inplace=True)\n",
        "CCTV_Seoul.head()"
      ],
      "execution_count": 0,
      "outputs": [
        {
          "output_type": "execute_result",
          "data": {
            "text/html": [
              "<div>\n",
              "<style scoped>\n",
              "    .dataframe tbody tr th:only-of-type {\n",
              "        vertical-align: middle;\n",
              "    }\n",
              "\n",
              "    .dataframe tbody tr th {\n",
              "        vertical-align: top;\n",
              "    }\n",
              "\n",
              "    .dataframe thead th {\n",
              "        text-align: right;\n",
              "    }\n",
              "</style>\n",
              "<table border=\"1\" class=\"dataframe\">\n",
              "  <thead>\n",
              "    <tr style=\"text-align: right;\">\n",
              "      <th></th>\n",
              "      <th>구별</th>\n",
              "      <th>소계</th>\n",
              "      <th>2013년도 이전</th>\n",
              "      <th>2014년</th>\n",
              "      <th>2015년</th>\n",
              "      <th>2016년</th>\n",
              "    </tr>\n",
              "  </thead>\n",
              "  <tbody>\n",
              "    <tr>\n",
              "      <th>0</th>\n",
              "      <td>강남구</td>\n",
              "      <td>3238</td>\n",
              "      <td>1292</td>\n",
              "      <td>430</td>\n",
              "      <td>584</td>\n",
              "      <td>932</td>\n",
              "    </tr>\n",
              "    <tr>\n",
              "      <th>1</th>\n",
              "      <td>강동구</td>\n",
              "      <td>1010</td>\n",
              "      <td>379</td>\n",
              "      <td>99</td>\n",
              "      <td>155</td>\n",
              "      <td>377</td>\n",
              "    </tr>\n",
              "    <tr>\n",
              "      <th>2</th>\n",
              "      <td>강북구</td>\n",
              "      <td>831</td>\n",
              "      <td>369</td>\n",
              "      <td>120</td>\n",
              "      <td>138</td>\n",
              "      <td>204</td>\n",
              "    </tr>\n",
              "    <tr>\n",
              "      <th>3</th>\n",
              "      <td>강서구</td>\n",
              "      <td>911</td>\n",
              "      <td>388</td>\n",
              "      <td>258</td>\n",
              "      <td>184</td>\n",
              "      <td>81</td>\n",
              "    </tr>\n",
              "    <tr>\n",
              "      <th>4</th>\n",
              "      <td>관악구</td>\n",
              "      <td>2109</td>\n",
              "      <td>846</td>\n",
              "      <td>260</td>\n",
              "      <td>390</td>\n",
              "      <td>613</td>\n",
              "    </tr>\n",
              "  </tbody>\n",
              "</table>\n",
              "</div>"
            ],
            "text/plain": [
              "    구별    소계  2013년도 이전  2014년  2015년  2016년\n",
              "0  강남구  3238       1292    430    584    932\n",
              "1  강동구  1010        379     99    155    377\n",
              "2  강북구   831        369    120    138    204\n",
              "3  강서구   911        388    258    184     81\n",
              "4  관악구  2109        846    260    390    613"
            ]
          },
          "metadata": {
            "tags": []
          },
          "execution_count": 8
        }
      ]
    },
    {
      "cell_type": "code",
      "metadata": {
        "id": "HBphPJj15cRF",
        "colab_type": "code",
        "outputId": "2973b558-626a-4ada-9381-f8797cce3a4c",
        "colab": {
          "base_uri": "https://localhost:8080/",
          "height": 202
        }
      },
      "source": [
        "pop_Seoul = pd.read_excel('/content/gdrive/My Drive/Data/population_in_Seoul.xls', encoding='utf-8')\n",
        "pop_Seoul.head()\n"
      ],
      "execution_count": 0,
      "outputs": [
        {
          "output_type": "execute_result",
          "data": {
            "text/html": [
              "<div>\n",
              "<style scoped>\n",
              "    .dataframe tbody tr th:only-of-type {\n",
              "        vertical-align: middle;\n",
              "    }\n",
              "\n",
              "    .dataframe tbody tr th {\n",
              "        vertical-align: top;\n",
              "    }\n",
              "\n",
              "    .dataframe thead th {\n",
              "        text-align: right;\n",
              "    }\n",
              "</style>\n",
              "<table border=\"1\" class=\"dataframe\">\n",
              "  <thead>\n",
              "    <tr style=\"text-align: right;\">\n",
              "      <th></th>\n",
              "      <th>기간</th>\n",
              "      <th>자치구</th>\n",
              "      <th>세대</th>\n",
              "      <th>인구</th>\n",
              "      <th>인구.1</th>\n",
              "      <th>인구.2</th>\n",
              "      <th>인구.3</th>\n",
              "      <th>인구.4</th>\n",
              "      <th>인구.5</th>\n",
              "      <th>인구.6</th>\n",
              "      <th>인구.7</th>\n",
              "      <th>인구.8</th>\n",
              "      <th>세대당인구</th>\n",
              "      <th>65세이상고령자</th>\n",
              "    </tr>\n",
              "  </thead>\n",
              "  <tbody>\n",
              "    <tr>\n",
              "      <th>0</th>\n",
              "      <td>기간</td>\n",
              "      <td>자치구</td>\n",
              "      <td>세대</td>\n",
              "      <td>합계</td>\n",
              "      <td>합계</td>\n",
              "      <td>합계</td>\n",
              "      <td>한국인</td>\n",
              "      <td>한국인</td>\n",
              "      <td>한국인</td>\n",
              "      <td>등록외국인</td>\n",
              "      <td>등록외국인</td>\n",
              "      <td>등록외국인</td>\n",
              "      <td>세대당인구</td>\n",
              "      <td>65세이상고령자</td>\n",
              "    </tr>\n",
              "    <tr>\n",
              "      <th>1</th>\n",
              "      <td>기간</td>\n",
              "      <td>자치구</td>\n",
              "      <td>세대</td>\n",
              "      <td>계</td>\n",
              "      <td>남자</td>\n",
              "      <td>여자</td>\n",
              "      <td>계</td>\n",
              "      <td>남자</td>\n",
              "      <td>여자</td>\n",
              "      <td>계</td>\n",
              "      <td>남자</td>\n",
              "      <td>여자</td>\n",
              "      <td>세대당인구</td>\n",
              "      <td>65세이상고령자</td>\n",
              "    </tr>\n",
              "    <tr>\n",
              "      <th>2</th>\n",
              "      <td>2019.1/4</td>\n",
              "      <td>합계</td>\n",
              "      <td>4290922</td>\n",
              "      <td>10054979</td>\n",
              "      <td>4909387</td>\n",
              "      <td>5145592</td>\n",
              "      <td>9770216</td>\n",
              "      <td>4772134</td>\n",
              "      <td>4998082</td>\n",
              "      <td>284763</td>\n",
              "      <td>137253</td>\n",
              "      <td>147510</td>\n",
              "      <td>2.28</td>\n",
              "      <td>1436125</td>\n",
              "    </tr>\n",
              "    <tr>\n",
              "      <th>3</th>\n",
              "      <td>2019.1/4</td>\n",
              "      <td>종로구</td>\n",
              "      <td>73914</td>\n",
              "      <td>162913</td>\n",
              "      <td>78963</td>\n",
              "      <td>83950</td>\n",
              "      <td>152778</td>\n",
              "      <td>74536</td>\n",
              "      <td>78242</td>\n",
              "      <td>10135</td>\n",
              "      <td>4427</td>\n",
              "      <td>5708</td>\n",
              "      <td>2.07</td>\n",
              "      <td>26981</td>\n",
              "    </tr>\n",
              "    <tr>\n",
              "      <th>4</th>\n",
              "      <td>2019.1/4</td>\n",
              "      <td>중구</td>\n",
              "      <td>61800</td>\n",
              "      <td>135836</td>\n",
              "      <td>66720</td>\n",
              "      <td>69116</td>\n",
              "      <td>125942</td>\n",
              "      <td>61992</td>\n",
              "      <td>63950</td>\n",
              "      <td>9894</td>\n",
              "      <td>4728</td>\n",
              "      <td>5166</td>\n",
              "      <td>2.04</td>\n",
              "      <td>22421</td>\n",
              "    </tr>\n",
              "  </tbody>\n",
              "</table>\n",
              "</div>"
            ],
            "text/plain": [
              "         기간  자치구       세대        인구  ...    인구.7    인구.8  세대당인구  65세이상고령자\n",
              "0        기간  자치구       세대        합계  ...   등록외국인   등록외국인  세대당인구  65세이상고령자\n",
              "1        기간  자치구       세대         계  ...      남자      여자  세대당인구  65세이상고령자\n",
              "2  2019.1/4   합계  4290922  10054979  ...  137253  147510   2.28   1436125\n",
              "3  2019.1/4  종로구    73914    162913  ...    4427    5708   2.07     26981\n",
              "4  2019.1/4   중구    61800    135836  ...    4728    5166   2.04     22421\n",
              "\n",
              "[5 rows x 14 columns]"
            ]
          },
          "metadata": {
            "tags": []
          },
          "execution_count": 9
        }
      ]
    },
    {
      "cell_type": "code",
      "metadata": {
        "id": "QpBYET146B2V",
        "colab_type": "code",
        "outputId": "1d1ddc94-cd1a-4528-8d3f-3f8bb523e426",
        "colab": {
          "base_uri": "https://localhost:8080/",
          "height": 239
        }
      },
      "source": [
        "pop_Seoul = pd.read_excel('/content/gdrive/My Drive/Data/population_in_Seoul.xls', encoding='utf-8', header=2, parse_cols='B, D, G, J, N')\n",
        "pop_Seoul.head()"
      ],
      "execution_count": 0,
      "outputs": [
        {
          "output_type": "stream",
          "text": [
            "/usr/local/lib/python3.6/dist-packages/ipykernel_launcher.py:1: FutureWarning: the 'parse_cols' keyword is deprecated, use 'usecols' instead\n",
            "  \"\"\"Entry point for launching an IPython kernel.\n"
          ],
          "name": "stderr"
        },
        {
          "output_type": "execute_result",
          "data": {
            "text/html": [
              "<div>\n",
              "<style scoped>\n",
              "    .dataframe tbody tr th:only-of-type {\n",
              "        vertical-align: middle;\n",
              "    }\n",
              "\n",
              "    .dataframe tbody tr th {\n",
              "        vertical-align: top;\n",
              "    }\n",
              "\n",
              "    .dataframe thead th {\n",
              "        text-align: right;\n",
              "    }\n",
              "</style>\n",
              "<table border=\"1\" class=\"dataframe\">\n",
              "  <thead>\n",
              "    <tr style=\"text-align: right;\">\n",
              "      <th></th>\n",
              "      <th>자치구</th>\n",
              "      <th>계</th>\n",
              "      <th>계.1</th>\n",
              "      <th>계.2</th>\n",
              "      <th>65세이상고령자</th>\n",
              "    </tr>\n",
              "  </thead>\n",
              "  <tbody>\n",
              "    <tr>\n",
              "      <th>0</th>\n",
              "      <td>합계</td>\n",
              "      <td>10054979</td>\n",
              "      <td>9770216</td>\n",
              "      <td>284763</td>\n",
              "      <td>1436125</td>\n",
              "    </tr>\n",
              "    <tr>\n",
              "      <th>1</th>\n",
              "      <td>종로구</td>\n",
              "      <td>162913</td>\n",
              "      <td>152778</td>\n",
              "      <td>10135</td>\n",
              "      <td>26981</td>\n",
              "    </tr>\n",
              "    <tr>\n",
              "      <th>2</th>\n",
              "      <td>중구</td>\n",
              "      <td>135836</td>\n",
              "      <td>125942</td>\n",
              "      <td>9894</td>\n",
              "      <td>22421</td>\n",
              "    </tr>\n",
              "    <tr>\n",
              "      <th>3</th>\n",
              "      <td>용산구</td>\n",
              "      <td>245139</td>\n",
              "      <td>229168</td>\n",
              "      <td>15971</td>\n",
              "      <td>38049</td>\n",
              "    </tr>\n",
              "    <tr>\n",
              "      <th>4</th>\n",
              "      <td>성동구</td>\n",
              "      <td>314608</td>\n",
              "      <td>306404</td>\n",
              "      <td>8204</td>\n",
              "      <td>43076</td>\n",
              "    </tr>\n",
              "  </tbody>\n",
              "</table>\n",
              "</div>"
            ],
            "text/plain": [
              "   자치구         계      계.1     계.2  65세이상고령자\n",
              "0   합계  10054979  9770216  284763   1436125\n",
              "1  종로구    162913   152778   10135     26981\n",
              "2   중구    135836   125942    9894     22421\n",
              "3  용산구    245139   229168   15971     38049\n",
              "4  성동구    314608   306404    8204     43076"
            ]
          },
          "metadata": {
            "tags": []
          },
          "execution_count": 10
        }
      ]
    },
    {
      "cell_type": "code",
      "metadata": {
        "id": "lpUbhYcu6znF",
        "colab_type": "code",
        "outputId": "a03ee134-8334-425e-c30f-d2863f721e29",
        "colab": {
          "base_uri": "https://localhost:8080/",
          "height": 202
        }
      },
      "source": [
        "pop_Seoul.rename(columns={pop_Seoul.columns[0] : '구별',\n",
        "                          pop_Seoul.columns[1] : '인구수',\n",
        "                          pop_Seoul.columns[2] : '한국인',\n",
        "                          pop_Seoul.columns[3] : '외국인',\n",
        "                          pop_Seoul.columns[4] : '고령자'}, inplace=True)\n",
        "pop_Seoul.head()"
      ],
      "execution_count": 0,
      "outputs": [
        {
          "output_type": "execute_result",
          "data": {
            "text/html": [
              "<div>\n",
              "<style scoped>\n",
              "    .dataframe tbody tr th:only-of-type {\n",
              "        vertical-align: middle;\n",
              "    }\n",
              "\n",
              "    .dataframe tbody tr th {\n",
              "        vertical-align: top;\n",
              "    }\n",
              "\n",
              "    .dataframe thead th {\n",
              "        text-align: right;\n",
              "    }\n",
              "</style>\n",
              "<table border=\"1\" class=\"dataframe\">\n",
              "  <thead>\n",
              "    <tr style=\"text-align: right;\">\n",
              "      <th></th>\n",
              "      <th>구별</th>\n",
              "      <th>인구수</th>\n",
              "      <th>한국인</th>\n",
              "      <th>외국인</th>\n",
              "      <th>고령자</th>\n",
              "    </tr>\n",
              "  </thead>\n",
              "  <tbody>\n",
              "    <tr>\n",
              "      <th>0</th>\n",
              "      <td>합계</td>\n",
              "      <td>10054979</td>\n",
              "      <td>9770216</td>\n",
              "      <td>284763</td>\n",
              "      <td>1436125</td>\n",
              "    </tr>\n",
              "    <tr>\n",
              "      <th>1</th>\n",
              "      <td>종로구</td>\n",
              "      <td>162913</td>\n",
              "      <td>152778</td>\n",
              "      <td>10135</td>\n",
              "      <td>26981</td>\n",
              "    </tr>\n",
              "    <tr>\n",
              "      <th>2</th>\n",
              "      <td>중구</td>\n",
              "      <td>135836</td>\n",
              "      <td>125942</td>\n",
              "      <td>9894</td>\n",
              "      <td>22421</td>\n",
              "    </tr>\n",
              "    <tr>\n",
              "      <th>3</th>\n",
              "      <td>용산구</td>\n",
              "      <td>245139</td>\n",
              "      <td>229168</td>\n",
              "      <td>15971</td>\n",
              "      <td>38049</td>\n",
              "    </tr>\n",
              "    <tr>\n",
              "      <th>4</th>\n",
              "      <td>성동구</td>\n",
              "      <td>314608</td>\n",
              "      <td>306404</td>\n",
              "      <td>8204</td>\n",
              "      <td>43076</td>\n",
              "    </tr>\n",
              "  </tbody>\n",
              "</table>\n",
              "</div>"
            ],
            "text/plain": [
              "    구별       인구수      한국인     외국인      고령자\n",
              "0   합계  10054979  9770216  284763  1436125\n",
              "1  종로구    162913   152778   10135    26981\n",
              "2   중구    135836   125942    9894    22421\n",
              "3  용산구    245139   229168   15971    38049\n",
              "4  성동구    314608   306404    8204    43076"
            ]
          },
          "metadata": {
            "tags": []
          },
          "execution_count": 11
        }
      ]
    },
    {
      "cell_type": "code",
      "metadata": {
        "id": "qKs54HjsmD2r",
        "colab_type": "code",
        "outputId": "27f14067-369d-4dca-a319-0db75642fdf4",
        "colab": {
          "base_uri": "https://localhost:8080/",
          "height": 202
        }
      },
      "source": [
        "CCTV_Seoul.sort_values(by='소계', ascending=True).head(5)"
      ],
      "execution_count": 0,
      "outputs": [
        {
          "output_type": "execute_result",
          "data": {
            "text/html": [
              "<div>\n",
              "<style scoped>\n",
              "    .dataframe tbody tr th:only-of-type {\n",
              "        vertical-align: middle;\n",
              "    }\n",
              "\n",
              "    .dataframe tbody tr th {\n",
              "        vertical-align: top;\n",
              "    }\n",
              "\n",
              "    .dataframe thead th {\n",
              "        text-align: right;\n",
              "    }\n",
              "</style>\n",
              "<table border=\"1\" class=\"dataframe\">\n",
              "  <thead>\n",
              "    <tr style=\"text-align: right;\">\n",
              "      <th></th>\n",
              "      <th>구별</th>\n",
              "      <th>소계</th>\n",
              "      <th>2013년도 이전</th>\n",
              "      <th>2014년</th>\n",
              "      <th>2015년</th>\n",
              "      <th>2016년</th>\n",
              "    </tr>\n",
              "  </thead>\n",
              "  <tbody>\n",
              "    <tr>\n",
              "      <th>9</th>\n",
              "      <td>도봉구</td>\n",
              "      <td>825</td>\n",
              "      <td>238</td>\n",
              "      <td>159</td>\n",
              "      <td>42</td>\n",
              "      <td>386</td>\n",
              "    </tr>\n",
              "    <tr>\n",
              "      <th>2</th>\n",
              "      <td>강북구</td>\n",
              "      <td>831</td>\n",
              "      <td>369</td>\n",
              "      <td>120</td>\n",
              "      <td>138</td>\n",
              "      <td>204</td>\n",
              "    </tr>\n",
              "    <tr>\n",
              "      <th>5</th>\n",
              "      <td>광진구</td>\n",
              "      <td>878</td>\n",
              "      <td>573</td>\n",
              "      <td>78</td>\n",
              "      <td>53</td>\n",
              "      <td>174</td>\n",
              "    </tr>\n",
              "    <tr>\n",
              "      <th>3</th>\n",
              "      <td>강서구</td>\n",
              "      <td>911</td>\n",
              "      <td>388</td>\n",
              "      <td>258</td>\n",
              "      <td>184</td>\n",
              "      <td>81</td>\n",
              "    </tr>\n",
              "    <tr>\n",
              "      <th>24</th>\n",
              "      <td>중랑구</td>\n",
              "      <td>916</td>\n",
              "      <td>509</td>\n",
              "      <td>121</td>\n",
              "      <td>177</td>\n",
              "      <td>109</td>\n",
              "    </tr>\n",
              "  </tbody>\n",
              "</table>\n",
              "</div>"
            ],
            "text/plain": [
              "     구별   소계  2013년도 이전  2014년  2015년  2016년\n",
              "9   도봉구  825        238    159     42    386\n",
              "2   강북구  831        369    120    138    204\n",
              "5   광진구  878        573     78     53    174\n",
              "3   강서구  911        388    258    184     81\n",
              "24  중랑구  916        509    121    177    109"
            ]
          },
          "metadata": {
            "tags": []
          },
          "execution_count": 14
        }
      ]
    },
    {
      "cell_type": "code",
      "metadata": {
        "id": "89gemRDCm43K",
        "colab_type": "code",
        "outputId": "b74a39db-8ad0-4b60-b233-2cc8c0864727",
        "colab": {
          "base_uri": "https://localhost:8080/",
          "height": 202
        }
      },
      "source": [
        " CCTV_Seoul.sort_values(by='소계', ascending=False).head(5)"
      ],
      "execution_count": 0,
      "outputs": [
        {
          "output_type": "execute_result",
          "data": {
            "text/html": [
              "<div>\n",
              "<style scoped>\n",
              "    .dataframe tbody tr th:only-of-type {\n",
              "        vertical-align: middle;\n",
              "    }\n",
              "\n",
              "    .dataframe tbody tr th {\n",
              "        vertical-align: top;\n",
              "    }\n",
              "\n",
              "    .dataframe thead th {\n",
              "        text-align: right;\n",
              "    }\n",
              "</style>\n",
              "<table border=\"1\" class=\"dataframe\">\n",
              "  <thead>\n",
              "    <tr style=\"text-align: right;\">\n",
              "      <th></th>\n",
              "      <th>구별</th>\n",
              "      <th>소계</th>\n",
              "      <th>2013년도 이전</th>\n",
              "      <th>2014년</th>\n",
              "      <th>2015년</th>\n",
              "      <th>2016년</th>\n",
              "    </tr>\n",
              "  </thead>\n",
              "  <tbody>\n",
              "    <tr>\n",
              "      <th>0</th>\n",
              "      <td>강남구</td>\n",
              "      <td>3238</td>\n",
              "      <td>1292</td>\n",
              "      <td>430</td>\n",
              "      <td>584</td>\n",
              "      <td>932</td>\n",
              "    </tr>\n",
              "    <tr>\n",
              "      <th>18</th>\n",
              "      <td>양천구</td>\n",
              "      <td>2482</td>\n",
              "      <td>1843</td>\n",
              "      <td>142</td>\n",
              "      <td>30</td>\n",
              "      <td>467</td>\n",
              "    </tr>\n",
              "    <tr>\n",
              "      <th>14</th>\n",
              "      <td>서초구</td>\n",
              "      <td>2297</td>\n",
              "      <td>1406</td>\n",
              "      <td>157</td>\n",
              "      <td>336</td>\n",
              "      <td>398</td>\n",
              "    </tr>\n",
              "    <tr>\n",
              "      <th>4</th>\n",
              "      <td>관악구</td>\n",
              "      <td>2109</td>\n",
              "      <td>846</td>\n",
              "      <td>260</td>\n",
              "      <td>390</td>\n",
              "      <td>613</td>\n",
              "    </tr>\n",
              "    <tr>\n",
              "      <th>21</th>\n",
              "      <td>은평구</td>\n",
              "      <td>2108</td>\n",
              "      <td>1138</td>\n",
              "      <td>224</td>\n",
              "      <td>278</td>\n",
              "      <td>468</td>\n",
              "    </tr>\n",
              "  </tbody>\n",
              "</table>\n",
              "</div>"
            ],
            "text/plain": [
              "     구별    소계  2013년도 이전  2014년  2015년  2016년\n",
              "0   강남구  3238       1292    430    584    932\n",
              "18  양천구  2482       1843    142     30    467\n",
              "14  서초구  2297       1406    157    336    398\n",
              "4   관악구  2109        846    260    390    613\n",
              "21  은평구  2108       1138    224    278    468"
            ]
          },
          "metadata": {
            "tags": []
          },
          "execution_count": 16
        }
      ]
    },
    {
      "cell_type": "code",
      "metadata": {
        "id": "yOhpocV-nGfO",
        "colab_type": "code",
        "outputId": "7f0122a9-f94c-4f6a-84b8-e1776626f4a0",
        "colab": {
          "base_uri": "https://localhost:8080/",
          "height": 202
        }
      },
      "source": [
        "CCTV_Seoul['최근증가율'] = (CCTV_Seoul['2016년']+ CCTV_Seoul['2015년']+ CCTV_Seoul['2014년'])/CCTV_Seoul['2013년도 이전'] *100\n",
        "CCTV_Seoul.sort_values(by='최근증가율', ascending=False).head(5)"
      ],
      "execution_count": 0,
      "outputs": [
        {
          "output_type": "execute_result",
          "data": {
            "text/html": [
              "<div>\n",
              "<style scoped>\n",
              "    .dataframe tbody tr th:only-of-type {\n",
              "        vertical-align: middle;\n",
              "    }\n",
              "\n",
              "    .dataframe tbody tr th {\n",
              "        vertical-align: top;\n",
              "    }\n",
              "\n",
              "    .dataframe thead th {\n",
              "        text-align: right;\n",
              "    }\n",
              "</style>\n",
              "<table border=\"1\" class=\"dataframe\">\n",
              "  <thead>\n",
              "    <tr style=\"text-align: right;\">\n",
              "      <th></th>\n",
              "      <th>구별</th>\n",
              "      <th>소계</th>\n",
              "      <th>2013년도 이전</th>\n",
              "      <th>2014년</th>\n",
              "      <th>2015년</th>\n",
              "      <th>2016년</th>\n",
              "      <th>최근증가율</th>\n",
              "    </tr>\n",
              "  </thead>\n",
              "  <tbody>\n",
              "    <tr>\n",
              "      <th>22</th>\n",
              "      <td>종로구</td>\n",
              "      <td>1619</td>\n",
              "      <td>464</td>\n",
              "      <td>314</td>\n",
              "      <td>211</td>\n",
              "      <td>630</td>\n",
              "      <td>248.922414</td>\n",
              "    </tr>\n",
              "    <tr>\n",
              "      <th>9</th>\n",
              "      <td>도봉구</td>\n",
              "      <td>825</td>\n",
              "      <td>238</td>\n",
              "      <td>159</td>\n",
              "      <td>42</td>\n",
              "      <td>386</td>\n",
              "      <td>246.638655</td>\n",
              "    </tr>\n",
              "    <tr>\n",
              "      <th>12</th>\n",
              "      <td>마포구</td>\n",
              "      <td>980</td>\n",
              "      <td>314</td>\n",
              "      <td>118</td>\n",
              "      <td>169</td>\n",
              "      <td>379</td>\n",
              "      <td>212.101911</td>\n",
              "    </tr>\n",
              "    <tr>\n",
              "      <th>8</th>\n",
              "      <td>노원구</td>\n",
              "      <td>1566</td>\n",
              "      <td>542</td>\n",
              "      <td>57</td>\n",
              "      <td>451</td>\n",
              "      <td>516</td>\n",
              "      <td>188.929889</td>\n",
              "    </tr>\n",
              "    <tr>\n",
              "      <th>1</th>\n",
              "      <td>강동구</td>\n",
              "      <td>1010</td>\n",
              "      <td>379</td>\n",
              "      <td>99</td>\n",
              "      <td>155</td>\n",
              "      <td>377</td>\n",
              "      <td>166.490765</td>\n",
              "    </tr>\n",
              "  </tbody>\n",
              "</table>\n",
              "</div>"
            ],
            "text/plain": [
              "     구별    소계  2013년도 이전  2014년  2015년  2016년       최근증가율\n",
              "22  종로구  1619        464    314    211    630  248.922414\n",
              "9   도봉구   825        238    159     42    386  246.638655\n",
              "12  마포구   980        314    118    169    379  212.101911\n",
              "8   노원구  1566        542     57    451    516  188.929889\n",
              "1   강동구  1010        379     99    155    377  166.490765"
            ]
          },
          "metadata": {
            "tags": []
          },
          "execution_count": 17
        }
      ]
    },
    {
      "cell_type": "code",
      "metadata": {
        "id": "G5EZ7JfXn__-",
        "colab_type": "code",
        "outputId": "78a7b806-c5f7-464b-f293-264801871708",
        "colab": {
          "base_uri": "https://localhost:8080/",
          "height": 202
        }
      },
      "source": [
        "pop_Seoul.head()"
      ],
      "execution_count": 0,
      "outputs": [
        {
          "output_type": "execute_result",
          "data": {
            "text/html": [
              "<div>\n",
              "<style scoped>\n",
              "    .dataframe tbody tr th:only-of-type {\n",
              "        vertical-align: middle;\n",
              "    }\n",
              "\n",
              "    .dataframe tbody tr th {\n",
              "        vertical-align: top;\n",
              "    }\n",
              "\n",
              "    .dataframe thead th {\n",
              "        text-align: right;\n",
              "    }\n",
              "</style>\n",
              "<table border=\"1\" class=\"dataframe\">\n",
              "  <thead>\n",
              "    <tr style=\"text-align: right;\">\n",
              "      <th></th>\n",
              "      <th>구별</th>\n",
              "      <th>인구수</th>\n",
              "      <th>한국인</th>\n",
              "      <th>외국인</th>\n",
              "      <th>고령자</th>\n",
              "    </tr>\n",
              "  </thead>\n",
              "  <tbody>\n",
              "    <tr>\n",
              "      <th>0</th>\n",
              "      <td>합계</td>\n",
              "      <td>10054979</td>\n",
              "      <td>9770216</td>\n",
              "      <td>284763</td>\n",
              "      <td>1436125</td>\n",
              "    </tr>\n",
              "    <tr>\n",
              "      <th>1</th>\n",
              "      <td>종로구</td>\n",
              "      <td>162913</td>\n",
              "      <td>152778</td>\n",
              "      <td>10135</td>\n",
              "      <td>26981</td>\n",
              "    </tr>\n",
              "    <tr>\n",
              "      <th>2</th>\n",
              "      <td>중구</td>\n",
              "      <td>135836</td>\n",
              "      <td>125942</td>\n",
              "      <td>9894</td>\n",
              "      <td>22421</td>\n",
              "    </tr>\n",
              "    <tr>\n",
              "      <th>3</th>\n",
              "      <td>용산구</td>\n",
              "      <td>245139</td>\n",
              "      <td>229168</td>\n",
              "      <td>15971</td>\n",
              "      <td>38049</td>\n",
              "    </tr>\n",
              "    <tr>\n",
              "      <th>4</th>\n",
              "      <td>성동구</td>\n",
              "      <td>314608</td>\n",
              "      <td>306404</td>\n",
              "      <td>8204</td>\n",
              "      <td>43076</td>\n",
              "    </tr>\n",
              "  </tbody>\n",
              "</table>\n",
              "</div>"
            ],
            "text/plain": [
              "    구별       인구수      한국인     외국인      고령자\n",
              "0   합계  10054979  9770216  284763  1436125\n",
              "1  종로구    162913   152778   10135    26981\n",
              "2   중구    135836   125942    9894    22421\n",
              "3  용산구    245139   229168   15971    38049\n",
              "4  성동구    314608   306404    8204    43076"
            ]
          },
          "metadata": {
            "tags": []
          },
          "execution_count": 18
        }
      ]
    },
    {
      "cell_type": "code",
      "metadata": {
        "id": "oL7bYmEAoIvk",
        "colab_type": "code",
        "outputId": "0bcb02a4-9ec4-4163-dfc8-83f419a63c42",
        "colab": {
          "base_uri": "https://localhost:8080/",
          "height": 202
        }
      },
      "source": [
        "pop_Seoul.drop([0], inplace=True)\n",
        "pop_Seoul.head()"
      ],
      "execution_count": 0,
      "outputs": [
        {
          "output_type": "execute_result",
          "data": {
            "text/html": [
              "<div>\n",
              "<style scoped>\n",
              "    .dataframe tbody tr th:only-of-type {\n",
              "        vertical-align: middle;\n",
              "    }\n",
              "\n",
              "    .dataframe tbody tr th {\n",
              "        vertical-align: top;\n",
              "    }\n",
              "\n",
              "    .dataframe thead th {\n",
              "        text-align: right;\n",
              "    }\n",
              "</style>\n",
              "<table border=\"1\" class=\"dataframe\">\n",
              "  <thead>\n",
              "    <tr style=\"text-align: right;\">\n",
              "      <th></th>\n",
              "      <th>구별</th>\n",
              "      <th>인구수</th>\n",
              "      <th>한국인</th>\n",
              "      <th>외국인</th>\n",
              "      <th>고령자</th>\n",
              "    </tr>\n",
              "  </thead>\n",
              "  <tbody>\n",
              "    <tr>\n",
              "      <th>1</th>\n",
              "      <td>종로구</td>\n",
              "      <td>162913</td>\n",
              "      <td>152778</td>\n",
              "      <td>10135</td>\n",
              "      <td>26981</td>\n",
              "    </tr>\n",
              "    <tr>\n",
              "      <th>2</th>\n",
              "      <td>중구</td>\n",
              "      <td>135836</td>\n",
              "      <td>125942</td>\n",
              "      <td>9894</td>\n",
              "      <td>22421</td>\n",
              "    </tr>\n",
              "    <tr>\n",
              "      <th>3</th>\n",
              "      <td>용산구</td>\n",
              "      <td>245139</td>\n",
              "      <td>229168</td>\n",
              "      <td>15971</td>\n",
              "      <td>38049</td>\n",
              "    </tr>\n",
              "    <tr>\n",
              "      <th>4</th>\n",
              "      <td>성동구</td>\n",
              "      <td>314608</td>\n",
              "      <td>306404</td>\n",
              "      <td>8204</td>\n",
              "      <td>43076</td>\n",
              "    </tr>\n",
              "    <tr>\n",
              "      <th>5</th>\n",
              "      <td>광진구</td>\n",
              "      <td>370658</td>\n",
              "      <td>354873</td>\n",
              "      <td>15785</td>\n",
              "      <td>46288</td>\n",
              "    </tr>\n",
              "  </tbody>\n",
              "</table>\n",
              "</div>"
            ],
            "text/plain": [
              "    구별     인구수     한국인    외국인    고령자\n",
              "1  종로구  162913  152778  10135  26981\n",
              "2   중구  135836  125942   9894  22421\n",
              "3  용산구  245139  229168  15971  38049\n",
              "4  성동구  314608  306404   8204  43076\n",
              "5  광진구  370658  354873  15785  46288"
            ]
          },
          "metadata": {
            "tags": []
          },
          "execution_count": 19
        }
      ]
    },
    {
      "cell_type": "code",
      "metadata": {
        "id": "CLRydBDQoQgN",
        "colab_type": "code",
        "outputId": "c4c1c44a-ff90-4236-b045-0d659b90914c",
        "colab": {
          "base_uri": "https://localhost:8080/",
          "height": 73
        }
      },
      "source": [
        "pop_Seoul['구별'].unique()"
      ],
      "execution_count": 0,
      "outputs": [
        {
          "output_type": "execute_result",
          "data": {
            "text/plain": [
              "array(['종로구', '중구', '용산구', '성동구', '광진구', '동대문구', '중랑구', '성북구', '강북구',\n",
              "       '도봉구', '노원구', '은평구', '서대문구', '마포구', '양천구', '강서구', '구로구', '금천구',\n",
              "       '영등포구', '동작구', '관악구', '서초구', '강남구', '송파구', '강동구'], dtype=object)"
            ]
          },
          "metadata": {
            "tags": []
          },
          "execution_count": 20
        }
      ]
    },
    {
      "cell_type": "code",
      "metadata": {
        "id": "4o0UeShloYRj",
        "colab_type": "code",
        "outputId": "fc387738-ecc0-4803-822b-0f1b128a003d",
        "colab": {
          "base_uri": "https://localhost:8080/",
          "height": 202
        }
      },
      "source": [
        "pop_Seoul['외국인비율'] = pop_Seoul['외국인'] / pop_Seoul['인구수'] *100\n",
        "pop_Seoul['고령자비율'] = pop_Seoul['고령자'] / pop_Seoul['인구수'] *100\n",
        "pop_Seoul.head()"
      ],
      "execution_count": 0,
      "outputs": [
        {
          "output_type": "execute_result",
          "data": {
            "text/html": [
              "<div>\n",
              "<style scoped>\n",
              "    .dataframe tbody tr th:only-of-type {\n",
              "        vertical-align: middle;\n",
              "    }\n",
              "\n",
              "    .dataframe tbody tr th {\n",
              "        vertical-align: top;\n",
              "    }\n",
              "\n",
              "    .dataframe thead th {\n",
              "        text-align: right;\n",
              "    }\n",
              "</style>\n",
              "<table border=\"1\" class=\"dataframe\">\n",
              "  <thead>\n",
              "    <tr style=\"text-align: right;\">\n",
              "      <th></th>\n",
              "      <th>구별</th>\n",
              "      <th>인구수</th>\n",
              "      <th>한국인</th>\n",
              "      <th>외국인</th>\n",
              "      <th>고령자</th>\n",
              "      <th>외국인비율</th>\n",
              "      <th>고령자비율</th>\n",
              "    </tr>\n",
              "  </thead>\n",
              "  <tbody>\n",
              "    <tr>\n",
              "      <th>1</th>\n",
              "      <td>종로구</td>\n",
              "      <td>162913</td>\n",
              "      <td>152778</td>\n",
              "      <td>10135</td>\n",
              "      <td>26981</td>\n",
              "      <td>6.221112</td>\n",
              "      <td>16.561600</td>\n",
              "    </tr>\n",
              "    <tr>\n",
              "      <th>2</th>\n",
              "      <td>중구</td>\n",
              "      <td>135836</td>\n",
              "      <td>125942</td>\n",
              "      <td>9894</td>\n",
              "      <td>22421</td>\n",
              "      <td>7.283783</td>\n",
              "      <td>16.505934</td>\n",
              "    </tr>\n",
              "    <tr>\n",
              "      <th>3</th>\n",
              "      <td>용산구</td>\n",
              "      <td>245139</td>\n",
              "      <td>229168</td>\n",
              "      <td>15971</td>\n",
              "      <td>38049</td>\n",
              "      <td>6.515079</td>\n",
              "      <td>15.521398</td>\n",
              "    </tr>\n",
              "    <tr>\n",
              "      <th>4</th>\n",
              "      <td>성동구</td>\n",
              "      <td>314608</td>\n",
              "      <td>306404</td>\n",
              "      <td>8204</td>\n",
              "      <td>43076</td>\n",
              "      <td>2.607690</td>\n",
              "      <td>13.691960</td>\n",
              "    </tr>\n",
              "    <tr>\n",
              "      <th>5</th>\n",
              "      <td>광진구</td>\n",
              "      <td>370658</td>\n",
              "      <td>354873</td>\n",
              "      <td>15785</td>\n",
              "      <td>46288</td>\n",
              "      <td>4.258643</td>\n",
              "      <td>12.488062</td>\n",
              "    </tr>\n",
              "  </tbody>\n",
              "</table>\n",
              "</div>"
            ],
            "text/plain": [
              "    구별     인구수     한국인    외국인    고령자     외국인비율      고령자비율\n",
              "1  종로구  162913  152778  10135  26981  6.221112  16.561600\n",
              "2   중구  135836  125942   9894  22421  7.283783  16.505934\n",
              "3  용산구  245139  229168  15971  38049  6.515079  15.521398\n",
              "4  성동구  314608  306404   8204  43076  2.607690  13.691960\n",
              "5  광진구  370658  354873  15785  46288  4.258643  12.488062"
            ]
          },
          "metadata": {
            "tags": []
          },
          "execution_count": 21
        }
      ]
    },
    {
      "cell_type": "code",
      "metadata": {
        "id": "t559M_b9ouiq",
        "colab_type": "code",
        "outputId": "e7a66a43-332e-4421-a1aa-08d9030e8d67",
        "colab": {
          "base_uri": "https://localhost:8080/",
          "height": 202
        }
      },
      "source": [
        "data_result = pd.merge(CCTV_Seoul, pop_Seoul, on='구별')\n",
        "data_result.head()"
      ],
      "execution_count": 0,
      "outputs": [
        {
          "output_type": "execute_result",
          "data": {
            "text/html": [
              "<div>\n",
              "<style scoped>\n",
              "    .dataframe tbody tr th:only-of-type {\n",
              "        vertical-align: middle;\n",
              "    }\n",
              "\n",
              "    .dataframe tbody tr th {\n",
              "        vertical-align: top;\n",
              "    }\n",
              "\n",
              "    .dataframe thead th {\n",
              "        text-align: right;\n",
              "    }\n",
              "</style>\n",
              "<table border=\"1\" class=\"dataframe\">\n",
              "  <thead>\n",
              "    <tr style=\"text-align: right;\">\n",
              "      <th></th>\n",
              "      <th>구별</th>\n",
              "      <th>소계</th>\n",
              "      <th>2013년도 이전</th>\n",
              "      <th>2014년</th>\n",
              "      <th>2015년</th>\n",
              "      <th>2016년</th>\n",
              "      <th>최근증가율</th>\n",
              "      <th>인구수</th>\n",
              "      <th>한국인</th>\n",
              "      <th>외국인</th>\n",
              "      <th>고령자</th>\n",
              "      <th>외국인비율</th>\n",
              "      <th>고령자비율</th>\n",
              "    </tr>\n",
              "  </thead>\n",
              "  <tbody>\n",
              "    <tr>\n",
              "      <th>0</th>\n",
              "      <td>강남구</td>\n",
              "      <td>3238</td>\n",
              "      <td>1292</td>\n",
              "      <td>430</td>\n",
              "      <td>584</td>\n",
              "      <td>932</td>\n",
              "      <td>150.619195</td>\n",
              "      <td>546875</td>\n",
              "      <td>541854</td>\n",
              "      <td>5021</td>\n",
              "      <td>68104</td>\n",
              "      <td>0.918126</td>\n",
              "      <td>12.453303</td>\n",
              "    </tr>\n",
              "    <tr>\n",
              "      <th>1</th>\n",
              "      <td>강동구</td>\n",
              "      <td>1010</td>\n",
              "      <td>379</td>\n",
              "      <td>99</td>\n",
              "      <td>155</td>\n",
              "      <td>377</td>\n",
              "      <td>166.490765</td>\n",
              "      <td>429601</td>\n",
              "      <td>425267</td>\n",
              "      <td>4334</td>\n",
              "      <td>59742</td>\n",
              "      <td>1.008843</td>\n",
              "      <td>13.906392</td>\n",
              "    </tr>\n",
              "    <tr>\n",
              "      <th>2</th>\n",
              "      <td>강북구</td>\n",
              "      <td>831</td>\n",
              "      <td>369</td>\n",
              "      <td>120</td>\n",
              "      <td>138</td>\n",
              "      <td>204</td>\n",
              "      <td>125.203252</td>\n",
              "      <td>321151</td>\n",
              "      <td>317386</td>\n",
              "      <td>3765</td>\n",
              "      <td>58858</td>\n",
              "      <td>1.172346</td>\n",
              "      <td>18.327204</td>\n",
              "    </tr>\n",
              "    <tr>\n",
              "      <th>3</th>\n",
              "      <td>강서구</td>\n",
              "      <td>911</td>\n",
              "      <td>388</td>\n",
              "      <td>258</td>\n",
              "      <td>184</td>\n",
              "      <td>81</td>\n",
              "      <td>134.793814</td>\n",
              "      <td>602886</td>\n",
              "      <td>596287</td>\n",
              "      <td>6599</td>\n",
              "      <td>80903</td>\n",
              "      <td>1.094568</td>\n",
              "      <td>13.419287</td>\n",
              "    </tr>\n",
              "    <tr>\n",
              "      <th>4</th>\n",
              "      <td>관악구</td>\n",
              "      <td>2109</td>\n",
              "      <td>846</td>\n",
              "      <td>260</td>\n",
              "      <td>390</td>\n",
              "      <td>613</td>\n",
              "      <td>149.290780</td>\n",
              "      <td>520645</td>\n",
              "      <td>502615</td>\n",
              "      <td>18030</td>\n",
              "      <td>73005</td>\n",
              "      <td>3.463012</td>\n",
              "      <td>14.022030</td>\n",
              "    </tr>\n",
              "  </tbody>\n",
              "</table>\n",
              "</div>"
            ],
            "text/plain": [
              "    구별    소계  2013년도 이전  2014년  ...    외국인    고령자     외국인비율      고령자비율\n",
              "0  강남구  3238       1292    430  ...   5021  68104  0.918126  12.453303\n",
              "1  강동구  1010        379     99  ...   4334  59742  1.008843  13.906392\n",
              "2  강북구   831        369    120  ...   3765  58858  1.172346  18.327204\n",
              "3  강서구   911        388    258  ...   6599  80903  1.094568  13.419287\n",
              "4  관악구  2109        846    260  ...  18030  73005  3.463012  14.022030\n",
              "\n",
              "[5 rows x 13 columns]"
            ]
          },
          "metadata": {
            "tags": []
          },
          "execution_count": 24
        }
      ]
    },
    {
      "cell_type": "code",
      "metadata": {
        "id": "YLL7MFPcteIr",
        "colab_type": "code",
        "outputId": "6379ff81-35ae-425e-d61d-2ae153e4df17",
        "colab": {
          "base_uri": "https://localhost:8080/",
          "height": 202
        }
      },
      "source": [
        "del data_result['2013년도 이전']\n",
        "del data_result['2014년']\n",
        "del data_result['2015년']\n",
        "del data_result['2016년']\n",
        "data_result.head()"
      ],
      "execution_count": 0,
      "outputs": [
        {
          "output_type": "execute_result",
          "data": {
            "text/html": [
              "<div>\n",
              "<style scoped>\n",
              "    .dataframe tbody tr th:only-of-type {\n",
              "        vertical-align: middle;\n",
              "    }\n",
              "\n",
              "    .dataframe tbody tr th {\n",
              "        vertical-align: top;\n",
              "    }\n",
              "\n",
              "    .dataframe thead th {\n",
              "        text-align: right;\n",
              "    }\n",
              "</style>\n",
              "<table border=\"1\" class=\"dataframe\">\n",
              "  <thead>\n",
              "    <tr style=\"text-align: right;\">\n",
              "      <th></th>\n",
              "      <th>구별</th>\n",
              "      <th>소계</th>\n",
              "      <th>최근증가율</th>\n",
              "      <th>인구수</th>\n",
              "      <th>한국인</th>\n",
              "      <th>외국인</th>\n",
              "      <th>고령자</th>\n",
              "      <th>외국인비율</th>\n",
              "      <th>고령자비율</th>\n",
              "    </tr>\n",
              "  </thead>\n",
              "  <tbody>\n",
              "    <tr>\n",
              "      <th>0</th>\n",
              "      <td>강남구</td>\n",
              "      <td>3238</td>\n",
              "      <td>150.619195</td>\n",
              "      <td>546875</td>\n",
              "      <td>541854</td>\n",
              "      <td>5021</td>\n",
              "      <td>68104</td>\n",
              "      <td>0.918126</td>\n",
              "      <td>12.453303</td>\n",
              "    </tr>\n",
              "    <tr>\n",
              "      <th>1</th>\n",
              "      <td>강동구</td>\n",
              "      <td>1010</td>\n",
              "      <td>166.490765</td>\n",
              "      <td>429601</td>\n",
              "      <td>425267</td>\n",
              "      <td>4334</td>\n",
              "      <td>59742</td>\n",
              "      <td>1.008843</td>\n",
              "      <td>13.906392</td>\n",
              "    </tr>\n",
              "    <tr>\n",
              "      <th>2</th>\n",
              "      <td>강북구</td>\n",
              "      <td>831</td>\n",
              "      <td>125.203252</td>\n",
              "      <td>321151</td>\n",
              "      <td>317386</td>\n",
              "      <td>3765</td>\n",
              "      <td>58858</td>\n",
              "      <td>1.172346</td>\n",
              "      <td>18.327204</td>\n",
              "    </tr>\n",
              "    <tr>\n",
              "      <th>3</th>\n",
              "      <td>강서구</td>\n",
              "      <td>911</td>\n",
              "      <td>134.793814</td>\n",
              "      <td>602886</td>\n",
              "      <td>596287</td>\n",
              "      <td>6599</td>\n",
              "      <td>80903</td>\n",
              "      <td>1.094568</td>\n",
              "      <td>13.419287</td>\n",
              "    </tr>\n",
              "    <tr>\n",
              "      <th>4</th>\n",
              "      <td>관악구</td>\n",
              "      <td>2109</td>\n",
              "      <td>149.290780</td>\n",
              "      <td>520645</td>\n",
              "      <td>502615</td>\n",
              "      <td>18030</td>\n",
              "      <td>73005</td>\n",
              "      <td>3.463012</td>\n",
              "      <td>14.022030</td>\n",
              "    </tr>\n",
              "  </tbody>\n",
              "</table>\n",
              "</div>"
            ],
            "text/plain": [
              "    구별    소계       최근증가율     인구수     한국인    외국인    고령자     외국인비율      고령자비율\n",
              "0  강남구  3238  150.619195  546875  541854   5021  68104  0.918126  12.453303\n",
              "1  강동구  1010  166.490765  429601  425267   4334  59742  1.008843  13.906392\n",
              "2  강북구   831  125.203252  321151  317386   3765  58858  1.172346  18.327204\n",
              "3  강서구   911  134.793814  602886  596287   6599  80903  1.094568  13.419287\n",
              "4  관악구  2109  149.290780  520645  502615  18030  73005  3.463012  14.022030"
            ]
          },
          "metadata": {
            "tags": []
          },
          "execution_count": 25
        }
      ]
    },
    {
      "cell_type": "code",
      "metadata": {
        "id": "nffwUTJPtxDi",
        "colab_type": "code",
        "outputId": "fa2d4da6-494b-4bbd-ae67-1a582b1d261d",
        "colab": {
          "base_uri": "https://localhost:8080/",
          "height": 233
        }
      },
      "source": [
        "data_result.set_index('구별', inplace=True)\n",
        "data_result.head()"
      ],
      "execution_count": 0,
      "outputs": [
        {
          "output_type": "execute_result",
          "data": {
            "text/html": [
              "<div>\n",
              "<style scoped>\n",
              "    .dataframe tbody tr th:only-of-type {\n",
              "        vertical-align: middle;\n",
              "    }\n",
              "\n",
              "    .dataframe tbody tr th {\n",
              "        vertical-align: top;\n",
              "    }\n",
              "\n",
              "    .dataframe thead th {\n",
              "        text-align: right;\n",
              "    }\n",
              "</style>\n",
              "<table border=\"1\" class=\"dataframe\">\n",
              "  <thead>\n",
              "    <tr style=\"text-align: right;\">\n",
              "      <th></th>\n",
              "      <th>소계</th>\n",
              "      <th>최근증가율</th>\n",
              "      <th>인구수</th>\n",
              "      <th>한국인</th>\n",
              "      <th>외국인</th>\n",
              "      <th>고령자</th>\n",
              "      <th>외국인비율</th>\n",
              "      <th>고령자비율</th>\n",
              "    </tr>\n",
              "    <tr>\n",
              "      <th>구별</th>\n",
              "      <th></th>\n",
              "      <th></th>\n",
              "      <th></th>\n",
              "      <th></th>\n",
              "      <th></th>\n",
              "      <th></th>\n",
              "      <th></th>\n",
              "      <th></th>\n",
              "    </tr>\n",
              "  </thead>\n",
              "  <tbody>\n",
              "    <tr>\n",
              "      <th>강남구</th>\n",
              "      <td>3238</td>\n",
              "      <td>150.619195</td>\n",
              "      <td>546875</td>\n",
              "      <td>541854</td>\n",
              "      <td>5021</td>\n",
              "      <td>68104</td>\n",
              "      <td>0.918126</td>\n",
              "      <td>12.453303</td>\n",
              "    </tr>\n",
              "    <tr>\n",
              "      <th>강동구</th>\n",
              "      <td>1010</td>\n",
              "      <td>166.490765</td>\n",
              "      <td>429601</td>\n",
              "      <td>425267</td>\n",
              "      <td>4334</td>\n",
              "      <td>59742</td>\n",
              "      <td>1.008843</td>\n",
              "      <td>13.906392</td>\n",
              "    </tr>\n",
              "    <tr>\n",
              "      <th>강북구</th>\n",
              "      <td>831</td>\n",
              "      <td>125.203252</td>\n",
              "      <td>321151</td>\n",
              "      <td>317386</td>\n",
              "      <td>3765</td>\n",
              "      <td>58858</td>\n",
              "      <td>1.172346</td>\n",
              "      <td>18.327204</td>\n",
              "    </tr>\n",
              "    <tr>\n",
              "      <th>강서구</th>\n",
              "      <td>911</td>\n",
              "      <td>134.793814</td>\n",
              "      <td>602886</td>\n",
              "      <td>596287</td>\n",
              "      <td>6599</td>\n",
              "      <td>80903</td>\n",
              "      <td>1.094568</td>\n",
              "      <td>13.419287</td>\n",
              "    </tr>\n",
              "    <tr>\n",
              "      <th>관악구</th>\n",
              "      <td>2109</td>\n",
              "      <td>149.290780</td>\n",
              "      <td>520645</td>\n",
              "      <td>502615</td>\n",
              "      <td>18030</td>\n",
              "      <td>73005</td>\n",
              "      <td>3.463012</td>\n",
              "      <td>14.022030</td>\n",
              "    </tr>\n",
              "  </tbody>\n",
              "</table>\n",
              "</div>"
            ],
            "text/plain": [
              "       소계       최근증가율     인구수     한국인    외국인    고령자     외국인비율      고령자비율\n",
              "구별                                                                      \n",
              "강남구  3238  150.619195  546875  541854   5021  68104  0.918126  12.453303\n",
              "강동구  1010  166.490765  429601  425267   4334  59742  1.008843  13.906392\n",
              "강북구   831  125.203252  321151  317386   3765  58858  1.172346  18.327204\n",
              "강서구   911  134.793814  602886  596287   6599  80903  1.094568  13.419287\n",
              "관악구  2109  149.290780  520645  502615  18030  73005  3.463012  14.022030"
            ]
          },
          "metadata": {
            "tags": []
          },
          "execution_count": 26
        }
      ]
    },
    {
      "cell_type": "code",
      "metadata": {
        "id": "6h9dqHJxt65i",
        "colab_type": "code",
        "outputId": "d8ad0777-05e4-4b83-87db-242f30a23f96",
        "colab": {
          "base_uri": "https://localhost:8080/",
          "height": 55
        }
      },
      "source": [
        "import numpy as np\n",
        "np.corrcoef(data_result['고령자비율'], data_result['소계'])"
      ],
      "execution_count": 0,
      "outputs": [
        {
          "output_type": "execute_result",
          "data": {
            "text/plain": [
              "array([[ 1.        , -0.28134716],\n",
              "       [-0.28134716,  1.        ]])"
            ]
          },
          "metadata": {
            "tags": []
          },
          "execution_count": 28
        }
      ]
    },
    {
      "cell_type": "code",
      "metadata": {
        "id": "2s7Q4EZouTJA",
        "colab_type": "code",
        "outputId": "ffac04a8-0eac-4ba3-fcb5-05f13493e7be",
        "colab": {
          "base_uri": "https://localhost:8080/",
          "height": 55
        }
      },
      "source": [
        "np.corrcoef(data_result['외국인비율'], data_result['소계'])"
      ],
      "execution_count": 0,
      "outputs": [
        {
          "output_type": "execute_result",
          "data": {
            "text/plain": [
              "array([[ 1.        , -0.05210682],\n",
              "       [-0.05210682,  1.        ]])"
            ]
          },
          "metadata": {
            "tags": []
          },
          "execution_count": 29
        }
      ]
    },
    {
      "cell_type": "code",
      "metadata": {
        "id": "gYVBmThouckV",
        "colab_type": "code",
        "outputId": "c591f83c-5ed1-4eab-d638-da0fee8922d2",
        "colab": {
          "base_uri": "https://localhost:8080/",
          "height": 55
        }
      },
      "source": [
        "np.corrcoef(data_result['인구수'], data_result['소계'])"
      ],
      "execution_count": 0,
      "outputs": [
        {
          "output_type": "execute_result",
          "data": {
            "text/plain": [
              "array([[1.        , 0.21773943],\n",
              "       [0.21773943, 1.        ]])"
            ]
          },
          "metadata": {
            "tags": []
          },
          "execution_count": 30
        }
      ]
    },
    {
      "cell_type": "code",
      "metadata": {
        "id": "3dRhMPPeufOE",
        "colab_type": "code",
        "outputId": "ef354cb7-1973-41bb-eb87-2de5c229e520",
        "colab": {
          "base_uri": "https://localhost:8080/",
          "height": 595
        }
      },
      "source": [
        "import matplotlib.pyplot as plt\n",
        "from matplotlib import font_manager, rc\n",
        "\n",
        "plt.rcParams['axes.unicode_minus']=False\n",
        "path = '/usr/share/fonts/truetype/nanum/NanumGothic.ttf'\n",
        "font_name = font_manager.FontProperties(fname = path).get_name()\n",
        "rc('font', family=font_name)\n",
        "\n",
        "data_result['소계'].plot(kind='barh', grid=True, figsize=(10,10))\n",
        "plt.show()"
      ],
      "execution_count": 0,
      "outputs": [
        {
          "output_type": "display_data",
          "data": {
            "image/png": "[encoded data removed]",
            "text/plain": [
              "<Figure size 720x720 with 1 Axes>"
            ]
          },
          "metadata": {
            "tags": []
          }
        }
      ]
    },
    {
      "cell_type": "code",
      "metadata": {
        "id": "N-VCn_Nc33Ez",
        "colab_type": "code",
        "outputId": "2dfd5cea-cd54-4b38-8db6-bded33cfa7b0",
        "colab": {
          "base_uri": "https://localhost:8080/",
          "height": 595
        }
      },
      "source": [
        "data_result['소계'].sort_values().plot(kind='barh', grid=True, figsize=(10,10))\n",
        "plt.show()"
      ],
      "execution_count": 0,
      "outputs": [
        {
          "output_type": "display_data",
          "data": {
            "image/png": "[encoded data removed]",
            "text/plain": [
              "<Figure size 720x720 with 1 Axes>"
            ]
          },
          "metadata": {
            "tags": []
          }
        }
      ]
    },
    {
      "cell_type": "code",
      "metadata": {
        "id": "fFGHOvqV6pnU",
        "colab_type": "code",
        "outputId": "575f010c-8ca7-45d9-eb65-94c4289d4cc8",
        "colab": {
          "base_uri": "https://localhost:8080/",
          "height": 595
        }
      },
      "source": [
        "data_result['CCTV비율'] =  data_result['소계']/data_result['인구수'] *100\n",
        "data_result['CCTV비율'].sort_values().plot(kind='barh', grid=True, figsize=(10,10))\n",
        "plt.show()"
      ],
      "execution_count": 0,
      "outputs": [
        {
          "output_type": "display_data",
          "data": {
            "image/png": "[encoded data removed]",
            "text/plain": [
              "<Figure size 720x720 with 1 Axes>"
            ]
          },
          "metadata": {
            "tags": []
          }
        }
      ]
    },
    {
      "cell_type": "code",
      "metadata": {
        "id": "Gn3iXTjL7FoW",
        "colab_type": "code",
        "outputId": "32c172df-0ad7-490b-d75f-c90a3da0561e",
        "colab": {
          "base_uri": "https://localhost:8080/",
          "height": 391
        }
      },
      "source": [
        "plt.figure(figsize=(6,6))\n",
        "plt.scatter(data_result['인구수'], data_result['소계'], s=50)\n",
        "plt.xlabel('인구수')\n",
        "plt.ylabel('CCTV')\n",
        "plt.grid()\n",
        "plt.show()"
      ],
      "execution_count": 0,
      "outputs": [
        {
          "output_type": "display_data",
          "data": {
            "image/png": "[encoded data removed]",
            "text/plain": [
              "<Figure size 432x432 with 1 Axes>"
            ]
          },
          "metadata": {
            "tags": []
          }
        }
      ]
    },
    {
      "cell_type": "code",
      "metadata": {
        "id": "fo-x1t177p6_",
        "colab_type": "code",
        "outputId": "610a644c-4fd0-4743-da29-46e2650bf443",
        "colab": {
          "base_uri": "https://localhost:8080/",
          "height": 36
        }
      },
      "source": [
        "fp1 = np.polyfit(data_result['인구수'], data_result['소계'], 1)\n",
        "fp1"
      ],
      "execution_count": 0,
      "outputs": [
        {
          "output_type": "execute_result",
          "data": {
            "text/plain": [
              "array([1.04688835e-03, 1.09426238e+03])"
            ]
          },
          "metadata": {
            "tags": []
          },
          "execution_count": 44
        }
      ]
    },
    {
      "cell_type": "code",
      "metadata": {
        "id": "MA43kTvu74kW",
        "colab_type": "code",
        "outputId": "52ad498a-8257-48c3-b181-f27ae54145cb",
        "colab": {
          "base_uri": "https://localhost:8080/",
          "height": 607
        }
      },
      "source": [
        "f1 = np.poly1d(fp1)\n",
        "fx = np.linspace(100000, 700000, 100)\n",
        "plt.figure(figsize=(10,10))\n",
        "plt.scatter(data_result['인구수'], data_result['소계'], s=50)\n",
        "plt.plot(fx, f1(fx), ls='dashed', lw=3, color='g')\n",
        "plt.xlabel('인구수')\n",
        "plt.ylabel('CCTV')\n",
        "plt.grid()\n",
        "plt.show()"
      ],
      "execution_count": 0,
      "outputs": [
        {
          "output_type": "display_data",
          "data": {
            "image/png": "[encoded data removed]",
            "text/plain": [
              "<Figure size 720x720 with 1 Axes>"
            ]
          },
          "metadata": {
            "tags": []
          }
        }
      ]
    },
    {
      "cell_type": "code",
      "metadata": {
        "id": "bi-cTzk98ajs",
        "colab_type": "code",
        "outputId": "320f0808-dc09-4113-b6cc-0b8b03f2508d",
        "colab": {
          "base_uri": "https://localhost:8080/",
          "height": 233
        }
      },
      "source": [
        "data_result['오차'] = np.abs(data_result['소계'] - f1(data_result['인구수']))\n",
        "\n",
        "df_sort = data_result.sort_values(by='오차', ascending=False)\n",
        "df_sort.head()"
      ],
      "execution_count": 0,
      "outputs": [
        {
          "output_type": "execute_result",
          "data": {
            "text/html": [
              "<div>\n",
              "<style scoped>\n",
              "    .dataframe tbody tr th:only-of-type {\n",
              "        vertical-align: middle;\n",
              "    }\n",
              "\n",
              "    .dataframe tbody tr th {\n",
              "        vertical-align: top;\n",
              "    }\n",
              "\n",
              "    .dataframe thead th {\n",
              "        text-align: right;\n",
              "    }\n",
              "</style>\n",
              "<table border=\"1\" class=\"dataframe\">\n",
              "  <thead>\n",
              "    <tr style=\"text-align: right;\">\n",
              "      <th></th>\n",
              "      <th>소계</th>\n",
              "      <th>최근증가율</th>\n",
              "      <th>인구수</th>\n",
              "      <th>한국인</th>\n",
              "      <th>외국인</th>\n",
              "      <th>고령자</th>\n",
              "      <th>외국인비율</th>\n",
              "      <th>고령자비율</th>\n",
              "      <th>CCTV비율</th>\n",
              "      <th>오차</th>\n",
              "    </tr>\n",
              "    <tr>\n",
              "      <th>구별</th>\n",
              "      <th></th>\n",
              "      <th></th>\n",
              "      <th></th>\n",
              "      <th></th>\n",
              "      <th></th>\n",
              "      <th></th>\n",
              "      <th></th>\n",
              "      <th></th>\n",
              "      <th></th>\n",
              "      <th></th>\n",
              "    </tr>\n",
              "  </thead>\n",
              "  <tbody>\n",
              "    <tr>\n",
              "      <th>강남구</th>\n",
              "      <td>3238</td>\n",
              "      <td>150.619195</td>\n",
              "      <td>546875</td>\n",
              "      <td>541854</td>\n",
              "      <td>5021</td>\n",
              "      <td>68104</td>\n",
              "      <td>0.918126</td>\n",
              "      <td>12.453303</td>\n",
              "      <td>0.592091</td>\n",
              "      <td>1571.220548</td>\n",
              "    </tr>\n",
              "    <tr>\n",
              "      <th>양천구</th>\n",
              "      <td>2482</td>\n",
              "      <td>34.671731</td>\n",
              "      <td>466622</td>\n",
              "      <td>462599</td>\n",
              "      <td>4023</td>\n",
              "      <td>58930</td>\n",
              "      <td>0.862154</td>\n",
              "      <td>12.629066</td>\n",
              "      <td>0.531908</td>\n",
              "      <td>899.236479</td>\n",
              "    </tr>\n",
              "    <tr>\n",
              "      <th>강서구</th>\n",
              "      <td>911</td>\n",
              "      <td>134.793814</td>\n",
              "      <td>602886</td>\n",
              "      <td>596287</td>\n",
              "      <td>6599</td>\n",
              "      <td>80903</td>\n",
              "      <td>1.094568</td>\n",
              "      <td>13.419287</td>\n",
              "      <td>0.151107</td>\n",
              "      <td>814.416716</td>\n",
              "    </tr>\n",
              "    <tr>\n",
              "      <th>서초구</th>\n",
              "      <td>2297</td>\n",
              "      <td>63.371266</td>\n",
              "      <td>437007</td>\n",
              "      <td>432762</td>\n",
              "      <td>4245</td>\n",
              "      <td>55366</td>\n",
              "      <td>0.971380</td>\n",
              "      <td>12.669362</td>\n",
              "      <td>0.525621</td>\n",
              "      <td>745.240078</td>\n",
              "    </tr>\n",
              "    <tr>\n",
              "      <th>용산구</th>\n",
              "      <td>2096</td>\n",
              "      <td>53.216374</td>\n",
              "      <td>245139</td>\n",
              "      <td>229168</td>\n",
              "      <td>15971</td>\n",
              "      <td>38049</td>\n",
              "      <td>6.515079</td>\n",
              "      <td>15.521398</td>\n",
              "      <td>0.855025</td>\n",
              "      <td>745.104452</td>\n",
              "    </tr>\n",
              "  </tbody>\n",
              "</table>\n",
              "</div>"
            ],
            "text/plain": [
              "       소계       최근증가율     인구수  ...      고령자비율    CCTV비율           오차\n",
              "구별                             ...                                  \n",
              "강남구  3238  150.619195  546875  ...  12.453303  0.592091  1571.220548\n",
              "양천구  2482   34.671731  466622  ...  12.629066  0.531908   899.236479\n",
              "강서구   911  134.793814  602886  ...  13.419287  0.151107   814.416716\n",
              "서초구  2297   63.371266  437007  ...  12.669362  0.525621   745.240078\n",
              "용산구  2096   53.216374  245139  ...  15.521398  0.855025   745.104452\n",
              "\n",
              "[5 rows x 10 columns]"
            ]
          },
          "metadata": {
            "tags": []
          },
          "execution_count": 47
        }
      ]
    },
    {
      "cell_type": "code",
      "metadata": {
        "id": "55j1cJFB9NLb",
        "colab_type": "code",
        "outputId": "57483526-c79f-4b02-badb-5512e30e7357",
        "colab": {
          "base_uri": "https://localhost:8080/",
          "height": 607
        }
      },
      "source": [
        "plt.figure(figsize=(10,10))\n",
        "plt.scatter(data_result['인구수'], data_result['소계'], c=data_result['오차'], s=50)\n",
        "plt.plot(fx, f1(fx), ls='dashed', lw=3, color='g')\n",
        "\n",
        "for n in range(10):\n",
        "  plt.text(df_sort['인구수'][n]*1.02, df_sort['소계'][n]*0.98, df_sort.index[n], fontsize=15)\n",
        "  \n",
        "plt.xlabel('인구수')\n",
        "plt.ylabel('CCTV')\n",
        "\n",
        "plt.colorbar()\n",
        "plt.grid()\n",
        "plt.show()"
      ],
      "execution_count": 0,
      "outputs": [
        {
          "output_type": "display_data",
          "data": {
            "image/png": "[encoded data removed]",
            "text/plain": [
              "<Figure size 720x720 with 2 Axes>"
            ]
          },
          "metadata": {
            "tags": []
          }
        }
      ]
    }
  ]
}